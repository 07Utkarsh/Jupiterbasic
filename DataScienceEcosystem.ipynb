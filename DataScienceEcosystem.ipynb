{
 "cells": [
  {
   "cell_type": "code",
   "execution_count": null,
   "id": "83bcb076-6b76-48fe-a21c-24765cbc7c61",
   "metadata": {},
   "outputs": [],
   "source": [
    "# Data Science Tools and Ecosystem"
   ]
  },
  {
   "cell_type": "code",
   "execution_count": null,
   "id": "be936a09-858b-4447-8a34-ca8097dcf978",
   "metadata": {},
   "outputs": [],
   "source": [
    "# In this notebook, Data Science Tools and Ecosystem are summarized."
   ]
  },
  {
   "cell_type": "code",
   "execution_count": null,
   "id": "dafb82a0-65b5-41b4-9a6e-b49ac80c266d",
   "metadata": {},
   "outputs": [],
   "source": [
    "# Some of the popular languages that Data Scientists use are:\n",
    "\n",
    "# 1. Python\n",
    "# 2. R\n",
    "# 3. SQL"
   ]
  },
  {
   "cell_type": "code",
   "execution_count": null,
   "id": "59b4be65-8e5c-45d6-a0e5-70f11829a6ef",
   "metadata": {},
   "outputs": [],
   "source": [
    "# Some of the commonly used libraries used by Data Scientists include:\n",
    "\n",
    "# 1. NumPy (Numerical Python)\n",
    "# 2. Pandas\n",
    "# 3. Matplotlib/Seaborn (for data visualization)"
   ]
  },
  {
   "cell_type": "code",
   "execution_count": null,
   "id": "a830e48e-8605-48e1-b593-305bf037b8dc",
   "metadata": {},
   "outputs": [],
   "source": [
    "# | Data Science Tools |\n",
    "# |---|---|\n",
    "# | Jupyter Notebook |\n",
    "# | PyCharm/RStudio (IDEs) |\n",
    "# | Version Control Systems (Git) |"
   ]
  },
  {
   "cell_type": "code",
   "execution_count": null,
   "id": "0e28640c-b086-49aa-9da5-d38389ba38c4",
   "metadata": {},
   "outputs": [],
   "source": [
    "### Below are a few examples of evaluating arithmetic expressions in Python."
   ]
  },
  {
   "cell_type": "code",
   "execution_count": null,
   "id": "3c9212a0-fcc5-4286-a8b7-3721a975c198",
   "metadata": {},
   "outputs": [],
   "source": [
    "# This a simple arithmetic expression to multiply then add integers\n",
    "result = (3 * 4) + 5\n",
    "\n",
    "print(result)"
   ]
  },
  {
   "cell_type": "code",
   "execution_count": null,
   "id": "96bf7dc2-80d5-4dc8-9f2d-836d50e11b4f",
   "metadata": {},
   "outputs": [],
   "source": [
    "# This will convert 200 minutes to hours by dividing by 60\n",
    "minutes = 200\n",
    "hours = minutes / 60\n",
    "\n",
    "print(hours)"
   ]
  },
  {
   "cell_type": "code",
   "execution_count": null,
   "id": "85f1962c-333b-4160-8805-ab0d89de8955",
   "metadata": {},
   "outputs": [],
   "source": [
    "## Objectives:\n",
    "\n",
    "# * List popular languages for Data Science.\n",
    "# * Identify commonly used libraries in Data Science.\n",
    "# * Explore basic arithmetic expression evaluation in Python.\n",
    "# * Understand how to convert between units (minutes to hours).\n",
    "# * Create tables and incorporate comments within a Jupyter Notebook."
   ]
  },
  {
   "cell_type": "code",
   "execution_count": null,
   "id": "a08b9576-6433-4ae9-8a7c-0cd8f5d46c46",
   "metadata": {},
   "outputs": [],
   "source": [
    "## Author\n",
    "# Utkarsh"
   ]
  },
  {
   "cell_type": "code",
   "execution_count": null,
   "id": "de95803d-cd07-4d7e-a64d-e7bfdac11cd3",
   "metadata": {},
   "outputs": [],
   "source": []
  }
 ],
 "metadata": {
  "kernelspec": {
   "display_name": "Python 3 (ipykernel)",
   "language": "python",
   "name": "python3"
  },
  "language_info": {
   "codemirror_mode": {
    "name": "ipython",
    "version": 3
   },
   "file_extension": ".py",
   "mimetype": "text/x-python",
   "name": "python",
   "nbconvert_exporter": "python",
   "pygments_lexer": "ipython3",
   "version": "3.11.5"
  }
 },
 "nbformat": 4,
 "nbformat_minor": 5
}
